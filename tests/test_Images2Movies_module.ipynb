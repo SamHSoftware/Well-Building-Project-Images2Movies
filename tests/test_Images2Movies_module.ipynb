{
 "cells": [
  {
   "cell_type": "code",
   "execution_count": 2,
   "id": "95194445",
   "metadata": {
    "tags": []
   },
   "outputs": [],
   "source": [
    "# Import the necessary packages and modules.\n",
    "import os\n",
    "current_directory = os.getcwd()\n",
    "module_directory = current_directory.replace('tests', 'Images2Movies')\n",
    "import sys\n",
    "sys.path.insert(0, module_directory)\n",
    "from Images2Movies_module import *\n",
    "\n",
    "# Test the function 'folder_selection_dialog()'. \n",
    "# Function input args: None. \n",
    "# Function output 1: When no errors are detected, a statement confirming this is printed. When errors are detected, assertion errors are raised. \n",
    "def test_folder_selection_dialog():\n",
    "    test_directory = folder_selection_dialog(test = 1)\n",
    "    test_folder = os.path.basename(os.path.normpath(test_directory))\n",
    "    assert test_folder == 'tests', \"Test 1 has failed. The folder selection dialog box did not return the 'tests' folder name'.\"\n",
    "    print('Test 1 complete. folder_selection_dialog() is working as expected.\\n')\n",
    "\n",
    "test_folder_selection_dialog()  \n",
    "    \n",
    "# Test the function 'list_image_paths()'.\n",
    "# Function input arg 1: test_directory [string] --> the test directory. \n",
    "# Function output 1: When no errors are detected, a statement confirming this is printed.\n",
    "def test_rename_images(current_directory):\n",
    "    well_directory = os.path.join(current_directory, 'test_folder', 'test_village_1', 'Well_1')\n",
    "    \n",
    "    # Get the image paths. \n",
    "    renamed_images_dir, txt_path = rename_images(well_directory,\n",
    "                                                 file_type = '.png')\n",
    "    # Test 2. \n",
    "    assert os.path.isdir(renamed_images_dir) == True, \"Test 1 has failed. test_rename_images did not create a new folder for the coppied (and renamed) images.\"\n",
    "    print('Test 2 complete. rename_images made renamed_images_dir as expected.\\n')\n",
    "    \n",
    "    # Get the image names in renamed_images_dir. \n",
    "    image_names = [_ for _ in os.listdir(renamed_images_dir)]\n",
    "    true_names = ['0000001.png', '0000002.png', '0000003.png', '0000004.png']\n",
    "    \n",
    "    # Test 3.\n",
    "    assert image_names == true_names, \"Test 2 has failed. There are either the wrong number of images in renamed_images_dir, or they are named incorrectly.\"\n",
    "    print('Test 3 complete. rename_images copied the right number of images and gave then the right names.\\n')\n",
    "          \n",
    "    # Test 4.\n",
    "    assert os.path.exists(txt_path) == True, \"Test 3 has failed. The txt file containing the image paths has not been made.\"\n",
    "    print('Test 4 complete. rename_images made the txt file (image_paths).\\n')\n",
    "    \n",
    "    # Test 5. \n",
    "    # Read from the .txt file.\n",
    "    with open(txt_path, 'r') as f:\n",
    "        content = f.read()\n",
    "        txt_content = content.split(\",\")\n",
    "    f.close()\n",
    "    truth_txt_content = [\"file 'C:\\\\Users\\\\Samuel Huguet\\\\OneDrive\\\\Documents\\\\GitHub\\\\Well-Building-Project-Images2Movies\\\\tests\\\\test_folder\\\\test_village_1\\\\Well_1\\\\renamed_images\\\\0000001.png'\\nfile 'C:\\\\Users\\\\Samuel Huguet\\\\OneDrive\\\\Documents\\\\GitHub\\\\Well-Building-Project-Images2Movies\\\\tests\\\\test_folder\\\\test_village_1\\\\Well_1\\\\renamed_images\\\\0000002.png'\\nfile 'C:\\\\Users\\\\Samuel Huguet\\\\OneDrive\\\\Documents\\\\GitHub\\\\Well-Building-Project-Images2Movies\\\\tests\\\\test_folder\\\\test_village_1\\\\Well_1\\\\renamed_images\\\\0000003.png'\\nfile 'C:\\\\Users\\\\Samuel Huguet\\\\OneDrive\\\\Documents\\\\GitHub\\\\Well-Building-Project-Images2Movies\\\\tests\\\\test_folder\\\\test_village_1\\\\Well_1\\\\renamed_images\\\\0000004.png'\\n\"]\n",
    "    assert txt_content == truth_txt_content, \"Test 5 has failed, the contents of the image_paths.txt is incorrect.\"\n",
    "    print('Test 5 complete. The contents of image_paths.txt is correct.\\n')\n",
    "    \n",
    "test_rename_images(current_directory)"
   ]
  }
 ],
 "metadata": {
  "kernelspec": {
   "display_name": "Python 3",
   "language": "python",
   "name": "python3"
  },
  "language_info": {
   "codemirror_mode": {
    "name": "ipython",
    "version": 3
   },
   "file_extension": ".py",
   "mimetype": "text/x-python",
   "name": "python",
   "nbconvert_exporter": "python",
   "pygments_lexer": "ipython3",
   "version": "3.7.11"
  }
 },
 "nbformat": 4,
 "nbformat_minor": 5
}
