{
 "cells": [
  {
   "cell_type": "code",
   "execution_count": 2,
   "id": "95194445",
   "metadata": {
    "tags": []
   },
   "outputs": [],
   "source": [
    "# Import the necessary packages and modules.\n",
    "import os\n",
    "current_directory = os.getcwd()\n",
    "module_directory = current_directory.replace('tests', 'Images2Movies')\n",
    "import sys\n",
    "sys.path.insert(0, module_directory)\n",
    "from Images2Movies_module import *\n",
    "\n",
    "# Test the function 'folder_selection_dialog()'. \n",
    "# Function input args: None. \n",
    "# Function output 1: When no errors are detected, a statement confirming this is printed. When errors are detected, assertion errors are raised. \n",
    "def test_folder_selection_dialog():\n",
    "    test_directory = folder_selection_dialog(test = 1)\n",
    "    test_folder = os.path.basename(os.path.normpath(test_directory))\n",
    "    assert test_folder == 'tests', \"Test 1 has failed. The folder selection dialog box did not return the 'tests' folder name'.\"\n",
    "    print('Test 1 complete. folder_selection_dialog() is working as expected.')\n",
    "\n",
    "# Test the function 'list_image_paths()'.\n",
    "# Function input arg 1: test_directory [string] --> the test directory. \n",
    "# Function output 1: When no errors are detected, a statement confirming this is printed.\n",
    "def test_list_image_paths(current_directory):\n",
    "    well_directory = os.path.join(current_directory, 'test_parent_dir', 'Well_1')\n",
    "    image_paths = list_image_paths(well_directory,\n",
    "                                   file_type = '.png')\n",
    "\n",
    "    test_image_paths = [] \n",
    "    for i in range(len(image_paths)):\n",
    "        image_path_components = os.path.normpath(image_paths[i]).split(os.path.sep)\n",
    "        n = len(image_path_components)\n",
    "        individual_path = os.path.join(image_path_components[n-7],image_path_components[n-6],image_path_components[n-5],image_path_components[n-4],image_path_components[n-3],image_path_components[n-2],image_path_components[n-1])\n",
    "        test_image_paths.append(individual_path)\n",
    "            \n",
    "    true_image_paths = ['Well-Building-Project-Images2Movies\\\\tests\\\\test_parent_dir\\\\Well_1\\\\test_sub_dir_1\\\\DCIM\\\\1.1.png',\n",
    "                        'Well-Building-Project-Images2Movies\\\\tests\\\\test_parent_dir\\\\Well_1\\\\test_sub_dir_1\\\\DCIM\\\\1.2.png',\n",
    "                        'Well-Building-Project-Images2Movies\\\\tests\\\\test_parent_dir\\\\Well_1\\\\test_sub_dir_2\\\\DCIM\\\\2.1.png',\n",
    "                        'Well-Building-Project-Images2Movies\\\\tests\\\\test_parent_dir\\\\Well_1\\\\test_sub_dir_2\\\\DCIM\\\\2.2.png']\n",
    "    \n",
    "    assert true_image_paths == test_image_paths, \"Test 2 has failed. list_image_paths() is not returning the image paths as expected.\"\n",
    "    print('Test 1 complete. list_image_paths() is working as expected.')\n"
   ]
  }
 ],
 "metadata": {
  "kernelspec": {
   "display_name": "Python 3",
   "language": "python",
   "name": "python3"
  },
  "language_info": {
   "codemirror_mode": {
    "name": "ipython",
    "version": 3
   },
   "file_extension": ".py",
   "mimetype": "text/x-python",
   "name": "python",
   "nbconvert_exporter": "python",
   "pygments_lexer": "ipython3",
   "version": "3.7.9"
  }
 },
 "nbformat": 4,
 "nbformat_minor": 5
}
