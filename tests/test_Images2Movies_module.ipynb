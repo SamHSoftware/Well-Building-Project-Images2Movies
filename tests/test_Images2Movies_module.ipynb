{
 "cells": [
  {
   "cell_type": "code",
   "execution_count": 2,
   "id": "31fba4e5-2c3c-4277-b2e9-d92321c2b2c9",
   "metadata": {
    "tags": []
   },
   "outputs": [],
   "source": [
    "# Import the necessary packages and modules.\n",
    "import os\n",
    "current_directory = os.getcwd()\n",
    "module_directory = current_directory.replace('tests', 'Images2Movies')\n",
    "import sys\n",
    "sys.path.insert(0, module_directory)\n",
    "from Images2Movies_module import * \n",
    "\n",
    "# Test the function 'folder_selection_dialog()'. \n",
    "# Function input args: None. \n",
    "# Function output args: When no errors are detected, a statement confirming this is printed. When errors are detected, assertion errors are raised. \n",
    "def test_folder_selection_dialog():\n",
    "    test_directory = folder_selection_dialog(test = 1)\n",
    "    test_folder = os.path.basename(os.path.normpath(test_directory))\n",
    "    assert test_folder == 'tests', \"Test 1 has failed. The folder selection dialog box did not return the 'tests' folder name'.\"\n",
    "    print('Test 1 complete. folder_selection_dialog() is working as expected')"
   ]
  }
 ],
 "metadata": {
  "kernelspec": {
   "display_name": "Python 3",
   "language": "python",
   "name": "python3"
  },
  "language_info": {
   "codemirror_mode": {
    "name": "ipython",
    "version": 3
   },
   "file_extension": ".py",
   "mimetype": "text/x-python",
   "name": "python",
   "nbconvert_exporter": "python",
   "pygments_lexer": "ipython3",
   "version": "3.7.11"
  }
 },
 "nbformat": 4,
 "nbformat_minor": 5
}
