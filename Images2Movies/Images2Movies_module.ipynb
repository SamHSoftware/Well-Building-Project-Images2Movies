{
 "cells": [
  {
   "cell_type": "code",
   "execution_count": null,
   "id": "31bc93f1-2424-4599-bed4-e6ae973ae95a",
   "metadata": {},
   "outputs": [],
   "source": [
    "from tkinter import *\n",
    "from tkinter import filedialog\n",
    "\n",
    "# A function to allow the user to select the folder contianing the subfolders of images.\n",
    "# Function inputs args: test [bool] --> When 1, will change the gui title to that of the test gui. \n",
    "# Function output 1: The path of the folder selected by the user. \n",
    "def folder_selection_dialog(test = 0):\n",
    "    root = Tk()\n",
    "    if test:\n",
    "        root.title('Please select the \"test\" folder within the downloaded package.')\n",
    "        root.filename = filedialog.askdirectory(initialdir=\"/\", title=\"Please select the \"test\" folder within the downloaded package.\")\n",
    "    else: \n",
    "        root.title('Please select the directory containing the subfolders of image data')\n",
    "        root.filename = filedialog.askdirectory(initialdir=\"/\", title=\"Please select the directory containing the subfolders of image data\")\n",
    "    simulation_directory = root.filename\n",
    "    root.destroy()\n",
    "\n",
    "    return simulation_directory"
   ]
  },
  {
   "cell_type": "code",
   "execution_count": null,
   "id": "62f77131-ad5b-4c6f-b7e4-13b605f20221",
   "metadata": {},
   "outputs": [],
   "source": [
    "# A function to create a list of image paths, such that these images can later be used to make a movie. \n",
    "# Function input args: \n",
    "# Function output arg 1: image_paths [list] --> A list of the image paths, where each path is a string. \n",
    "def list_image_paths():\n",
    "    "
   ]
  },
  {
   "cell_type": "code",
   "execution_count": null,
   "id": "941e6b5d-957c-48ce-be5c-70836cffc029",
   "metadata": {},
   "outputs": [],
   "source": [
    "# A function to take the list of image paths, load in said images, and convert them to a movie. \n",
    "# Function input arg 1:\n",
    "# Function input arg 2: \n",
    "def create_movie():\n",
    "    "
   ]
  }
 ],
 "metadata": {
  "kernelspec": {
   "display_name": "Python 3",
   "language": "python",
   "name": "python3"
  },
  "language_info": {
   "codemirror_mode": {
    "name": "ipython",
    "version": 3
   },
   "file_extension": ".py",
   "mimetype": "text/x-python",
   "name": "python",
   "nbconvert_exporter": "python",
   "pygments_lexer": "ipython3",
   "version": "3.7.11"
  }
 },
 "nbformat": 4,
 "nbformat_minor": 5
}
