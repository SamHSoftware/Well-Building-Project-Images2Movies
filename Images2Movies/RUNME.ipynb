{
 "cells": [
  {
   "cell_type": "code",
   "execution_count": null,
   "id": "9f43390d-0b2c-4445-97b1-7a5cd8b660f9",
   "metadata": {},
   "outputs": [],
   "source": [
    "# Import the necessary packages.\n",
    "from Images2Movies_module import *\n",
    "\n",
    "# Variables\n",
    "create_all_videos = 0\n",
    "\n",
    "# A function to allow the user to select the folder contianing the subfolders of images.\n",
    "# Function input arg 1: create_all_videos [bool] --> When 0, asks for the Well diirectory. When 1, asks for the directory containing the parents.\n",
    "# Function input arg 2: test [bool] --> When 1, will change the gui title to that of the test gui.\n",
    "# Function output 1: The path of the folder selected by the user. \n",
    "folder_selection_dialog(create_all_videos = create_all_videos,\n",
    "                        test = 0)\n",
    "\n",
    "# A function to take the list of image paths, load in said images, and convert them to a movie. \n",
    "# Function input arg 1: selected_directory [string] --> The well directory, as previously selected. \n",
    "# Function input arg 1: create_all_videos [bool] --> When 0, asks for the Well diirectory. When 1, asks for the directory containing the parents.\n",
    "# Function input arg 3: frame_rate [int] --> The desired frame rate. \n",
    "# Function input arg 4: movie_extension [string] --> Your desired movie file extension. Tested for .avi and .mp4. \n",
    "# Function input arg 5: movie_resolution [int] --> A percentage value Between 100 and 1. When 100, the original resolution is preserved. When at 50, the width and height will be halved.\n",
    "# Function output 1: The movie will be saved to 'selected_directory'. \n",
    "create_movie(selected_directory,\n",
    "             create_all_videos = create_all_videos,\n",
    "             file_type = '.jpg',\n",
    "             frame_rate = 1,\n",
    "             movie_extension = '.avi',\n",
    "             movie_resolution = 100)"
   ]
  }
 ],
 "metadata": {
  "kernelspec": {
   "display_name": "Python 3",
   "language": "python",
   "name": "python3"
  },
  "language_info": {
   "codemirror_mode": {
    "name": "ipython",
    "version": 3
   },
   "file_extension": ".py",
   "mimetype": "text/x-python",
   "name": "python",
   "nbconvert_exporter": "python",
   "pygments_lexer": "ipython3",
   "version": "3.7.11"
  }
 },
 "nbformat": 4,
 "nbformat_minor": 5
}
