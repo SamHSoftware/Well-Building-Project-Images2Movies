{
 "cells": [
  {
   "cell_type": "code",
   "execution_count": null,
   "id": "9f43390d-0b2c-4445-97b1-7a5cd8b660f9",
   "metadata": {},
   "outputs": [],
   "source": [
    "# Import the necessary packages.\n",
    "from Images2Movies_module import *\n",
    "\n",
    "# Variables\n",
    "create_all_videos = 0 #[bool] --> When 0, asks for the Well diirectory. When 1, asks for the directory containing the parents.\n",
    "\n",
    "# A function to allow the user to select the folder contianing the subfolders of images.\n",
    "# Function input arg 1: create_all_videos [bool] --> When 0, asks for the Well diirectory. When 1, asks for the directory containing the parents.\n",
    "# Function input arg 2: test [bool] --> When 1, will change the gui title to that of the test gui.\n",
    "# Function output 1: The path of the folder selected by the user. \n",
    "folder_selection_dialog(create_all_videos = create_all_videos,\n",
    "                        test = 0)\n",
    "\n",
    "# A function to take the list of image paths, load in said images, and convert them to a movie. \n",
    "# Function input arg 1: selected_directory [string] --> The well or village directory, as previously selected. \n",
    "# Function input arg 1: create_all_videos [bool] --> When 0, creates individual videos from the well directory. When 1, considers every well directory and makes videos for all of them.\n",
    "# Function input arg 3: frame_rate [string] --> The desired frame rate. Pretend the value between the quotation marks is an [int].\n",
    "# Function input arg 4: movie_extension [string] --> Your desired movie file extension. Tested for .avi and .mp4. \n",
    "# Function input arg 4: bitrate [string] --> Bitrate at which video is exported.\n",
    "# Function output 1: The movie will be saved to 'selected_directory'. \n",
    "create_movie(selected_directory,\n",
    "             create_all_videos = 0,\n",
    "             file_type = '.JPG',\n",
    "             frame_rate = '25',\n",
    "             movie_extension = '.mp4',\n",
    "             bitrate = '5000k',\n",
    "             video_width = 1920)"
   ]
  }
 ],
 "metadata": {
  "kernelspec": {
   "display_name": "Python 3",
   "language": "python",
   "name": "python3"
  },
  "language_info": {
   "codemirror_mode": {
    "name": "ipython",
    "version": 3
   },
   "file_extension": ".py",
   "mimetype": "text/x-python",
   "name": "python",
   "nbconvert_exporter": "python",
   "pygments_lexer": "ipython3",
   "version": "3.7.11"
  }
 },
 "nbformat": 4,
 "nbformat_minor": 5
}
