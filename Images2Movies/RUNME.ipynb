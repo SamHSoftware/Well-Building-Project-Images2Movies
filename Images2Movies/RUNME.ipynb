{
 "cells": [
  {
   "cell_type": "code",
   "execution_count": null,
   "id": "9f43390d-0b2c-4445-97b1-7a5cd8b660f9",
   "metadata": {},
   "outputs": [],
   "source": [
    "# Import the necessary packages.\n",
    "from Images2Movies_module import *\n",
    "\n",
    "# A function to allow the user to select the folder containing the subfolders of images.\n",
    "# Function input args: none. \n",
    "# Function output 1: The path of the folder in question. \n",
    "directory = folder_selection_dialog()"
   ]
  }
 ],
 "metadata": {
  "kernelspec": {
   "display_name": "Python 3",
   "language": "python",
   "name": "python3"
  },
  "language_info": {
   "codemirror_mode": {
    "name": "ipython",
    "version": 3
   },
   "file_extension": ".py",
   "mimetype": "text/x-python",
   "name": "python",
   "nbconvert_exporter": "python",
   "pygments_lexer": "ipython3",
   "version": "3.7.11"
  }
 },
 "nbformat": 4,
 "nbformat_minor": 5
}
