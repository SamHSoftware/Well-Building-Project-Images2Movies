{
 "cells": [
  {
   "cell_type": "code",
   "execution_count": null,
   "id": "9f43390d-0b2c-4445-97b1-7a5cd8b660f9",
   "metadata": {},
   "outputs": [],
   "source": [
    "# Import the necessary packages.\n",
    "from Images2Movies_module import *\n",
    "\n",
    "# A function to allow the user to select the folder contianing the subfolders of images.\n",
    "# Function inputs args: test [bool] --> When 1, will change the gui title to that of the test gui. \n",
    "# Function output 1: The path of the folder selected by the user. \n",
    "parent_directory = folder_selection_dialog(test = 0)\n",
    "\n",
    "# A function to create a list of image paths, such that these images can later be used to make a movie. \n",
    "# Function input args: parent_directory [string] --> The directory containing the subfolders of images. \n",
    "# Function output arg 1: image_paths [list] --> A list of the image paths, where each path is a string. \n",
    "image_paths = list_image_paths(parent_directory)\n",
    "\n",
    "# A function to take the list of image paths, load in said images, and convert them to a movie. \n",
    "# Function input arg 1:image_paths [list] --> A list of string directories for each image to be stiched into the video. The list represents the correct order of stiching.\n",
    "# Function input arg 2: parent_directory [string] --> The parent directory, as previously selected. \n",
    "# Function input arg 2: frame_rate [int] --> The desired frame rate. \n",
    "# Function input arg 2: movie_name [string] --> Your desired file name, including the file extension. Tested for .avi and .mp4. \n",
    "# Function output 1: The movie will be saved to 'parent_directory'. \n",
    "create_movie(image_paths = image_paths,\n",
    "             parent_directory = parent_directory,\n",
    "             frame_rate = 1,\n",
    "             movie_name = 'my_movie_name.avi'):"
   ]
  }
 ],
 "metadata": {
  "kernelspec": {
   "display_name": "Python 3",
   "language": "python",
   "name": "python3"
  },
  "language_info": {
   "codemirror_mode": {
    "name": "ipython",
    "version": 3
   },
   "file_extension": ".py",
   "mimetype": "text/x-python",
   "name": "python",
   "nbconvert_exporter": "python",
   "pygments_lexer": "ipython3",
   "version": "3.7.11"
  }
 },
 "nbformat": 4,
 "nbformat_minor": 5
}
